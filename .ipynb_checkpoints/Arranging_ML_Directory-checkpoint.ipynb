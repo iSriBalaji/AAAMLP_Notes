{
 "cells": [
  {
   "cell_type": "code",
   "execution_count": 1,
   "id": "5e331a09",
   "metadata": {},
   "outputs": [],
   "source": [
    "### Sri Balaji Muruganandam\n",
    "### AAAMLP Book - Arranging Machine Learning Projects(Abhishek Thagur Book)\n",
    "### How to create and manage a ML project\n",
    "### Notebook - 4"
   ]
  },
  {
   "cell_type": "code",
   "execution_count": 4,
   "id": "a60be3df",
   "metadata": {},
   "outputs": [
    {
     "data": {
      "text/plain": [
       "'\\nReferences\\nhttps://www.kaggle.com/competitions/digit-recognizer/data?select=train.csv -- MNIST datset(mentioned in the book)\\n\\n'"
      ]
     },
     "execution_count": 4,
     "metadata": {},
     "output_type": "execute_result"
    }
   ],
   "source": [
    "\"\"\"\n",
    "References\n",
    "https://www.kaggle.com/competitions/digit-recognizer/data?select=train.csv -- MNIST datset(mentioned in the book)\n",
    "\n",
    "\"\"\""
   ]
  },
  {
   "cell_type": "code",
   "execution_count": 3,
   "id": "f05d8603",
   "metadata": {},
   "outputs": [],
   "source": [
    "import numpy as np\n",
    "import pandas as pd\n",
    "import os\n",
    "import inspect\n",
    "import matplotlib.pyplot as plt\n",
    "import seaborn as sns"
   ]
  },
  {
   "cell_type": "markdown",
   "id": "ab7f6c8e",
   "metadata": {},
   "source": [
    "## Abhi says that he will use IDE for creating and managing a project. He will use Jupyter notebook only for exploration and analysis"
   ]
  },
  {
   "cell_type": "markdown",
   "id": "0842debe",
   "metadata": {},
   "source": [
    "## input\n",
    "- Input CSV or other files\n",
    "- NLP - Word embeddings\n",
    "- Image - image inputs in the subfolders\n",
    "\n",
    "## src\n",
    "- All python scripts\n",
    "\n",
    "## models\n",
    "- all the trained models\n",
    "\n",
    "## notebooks\n",
    "- all jupyter notebooks\n",
    "\n",
    "## README.md\n",
    "- markdown file to describe your project from start to end\n",
    "\n",
    "## LICENSE\n",
    "- text file - license for the project"
   ]
  },
  {
   "cell_type": "code",
   "execution_count": 5,
   "id": "533d59d2",
   "metadata": {},
   "outputs": [],
   "source": [
    "## I am using VS Code as my IDE"
   ]
  },
  {
   "cell_type": "code",
   "execution_count": null,
   "id": "ba73b48c",
   "metadata": {},
   "outputs": [],
   "source": [
    "## This is the best chapter ever - I learnt a lot"
   ]
  }
 ],
 "metadata": {
  "kernelspec": {
   "display_name": "Python 3 (ipykernel)",
   "language": "python",
   "name": "python3"
  },
  "language_info": {
   "codemirror_mode": {
    "name": "ipython",
    "version": 3
   },
   "file_extension": ".py",
   "mimetype": "text/x-python",
   "name": "python",
   "nbconvert_exporter": "python",
   "pygments_lexer": "ipython3",
   "version": "3.10.4"
  }
 },
 "nbformat": 4,
 "nbformat_minor": 5
}

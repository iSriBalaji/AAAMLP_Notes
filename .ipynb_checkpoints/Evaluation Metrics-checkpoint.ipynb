{
 "cells": [
  {
   "cell_type": "code",
   "execution_count": 1,
   "id": "426469de",
   "metadata": {},
   "outputs": [],
   "source": [
    "### Sri Balaji Muruganandam\n",
    "### AAAMLP Book - Evaluation Metrics(Abhishek Thagur Book)\n",
    "### Metrics - Classification & Regression\n",
    "### Notebook - 3"
   ]
  },
  {
   "cell_type": "code",
   "execution_count": 2,
   "id": "7773e00c",
   "metadata": {},
   "outputs": [
    {
     "data": {
      "text/plain": [
       "'\\nReferences\\nhttps://www.youtube.com/watch?v=2osIZ-dSPGE\\nhttps://www.mage.ai/blog/definitive-guide-to-accuracy-precision-recall-for-product-developers\\nhttps://scikit-learn.org/stable/auto_examples/model_selection/plot_precision_recall.html\\nhttps://www.youtube.com/watch?v=gZmOmgQns3c  -- best video\\nhttps://www.youtube.com/watch?v=_AjhdXuXEDE\\nhttps://www.youtube.com/watch?v=4jRBRDbJemM -- StatQuest ROC & AUC\\nhttps://www.youtube.com/watch?v=DF-rJA-eOUQ&ab_channel=BhaveshBhatt  -- macro micro precisions\\nhttps://vitalflux.com/micro-average-macro-average-scoring-metrics-multi-class-classification-python/\\n'"
      ]
     },
     "execution_count": 2,
     "metadata": {},
     "output_type": "execute_result"
    }
   ],
   "source": [
    "\"\"\"\n",
    "References\n",
    "https://www.youtube.com/watch?v=2osIZ-dSPGE\n",
    "https://www.mage.ai/blog/definitive-guide-to-accuracy-precision-recall-for-product-developers\n",
    "https://scikit-learn.org/stable/auto_examples/model_selection/plot_precision_recall.html\n",
    "https://www.youtube.com/watch?v=gZmOmgQns3c  -- best video\n",
    "https://www.youtube.com/watch?v=_AjhdXuXEDE\n",
    "https://www.youtube.com/watch?v=4jRBRDbJemM -- StatQuest ROC & AUC\n",
    "https://www.youtube.com/watch?v=DF-rJA-eOUQ&ab_channel=BhaveshBhatt  -- macro micro precisions\n",
    "https://vitalflux.com/micro-average-macro-average-scoring-metrics-multi-class-classification-python/\n",
    "\"\"\""
   ]
  },
  {
   "cell_type": "code",
   "execution_count": 40,
   "id": "31e86d75",
   "metadata": {},
   "outputs": [],
   "source": [
    "import numpy as np\n",
    "import pandas as pd\n",
    "import os\n",
    "import inspect\n",
    "import matplotlib.pyplot as plt\n",
    "import seaborn as sns"
   ]
  },
  {
   "cell_type": "code",
   "execution_count": 4,
   "id": "89246d3c",
   "metadata": {},
   "outputs": [],
   "source": [
    "### If there are equal number of positive and negative samples in binary classification we use\n",
    "### the metrics of - accuracy, precision, recall and F1\n",
    "\n",
    "# Function to calculate accuracy - MANUAL Method\n",
    "\n",
    "def accuracy(actual,predict):\n",
    "    ## Abhi's approch\n",
    "    ## Initialize a simple counter for correct predictions\n",
    "    count = 0\n",
    "    \n",
    "    for act,pred in zip(actual,predict):\n",
    "        if(act==pred):\n",
    "            count+=1\n",
    "        \n",
    "    return count/len(actual)\n",
    "    "
   ]
  },
  {
   "cell_type": "code",
   "execution_count": 5,
   "id": "2371a43c",
   "metadata": {},
   "outputs": [
    {
     "data": {
      "text/plain": [
       "0.75"
      ]
     },
     "execution_count": 5,
     "metadata": {},
     "output_type": "execute_result"
    }
   ],
   "source": [
    "# Function to calculate accuracy - Scikit Learn\n",
    "actual = [0,1,1,1,0,0,1,1]\n",
    "predict = [0,0,1,1,1,0,1,1]\n",
    "\n",
    "from sklearn import metrics\n",
    "\n",
    "accuracy = metrics.accuracy_score(actual,predict)\n",
    "accuracy"
   ]
  },
  {
   "cell_type": "code",
   "execution_count": 6,
   "id": "413f7e98",
   "metadata": {},
   "outputs": [
    {
     "data": {
      "text/plain": [
       "array([[2, 1],\n",
       "       [1, 4]])"
      ]
     },
     "execution_count": 6,
     "metadata": {},
     "output_type": "execute_result"
    }
   ],
   "source": [
    "### Whenever the data is skewed 180 positives and 20 negatives - Don't use accuracy\n",
    "### Use precisions -  know TP,TN, FP,FN (Confusion Matrix)\n",
    "\n",
    "\"\"\"\n",
    "Functions to calculate - True positive, True Negative, False Positive, False Negative\n",
    "We are going to use sklearn inbuilt functions, We can also create our own functions manually\n",
    "\"\"\"\n",
    "\n",
    "## ACCURACY SCORE = (TP+TN)/(TP+TN+FP+FN) -- This is our usual accuracy metrics for classification\n",
    "\n",
    "\"\"\"\n",
    "Note: Abhi has manually all the code for TP,TN, FP,FN, Precision, accuracy, recall etc...\n",
    "Know the concepts well and use built-in functions from sklearn\n",
    "\"\"\"\n",
    "\n",
    "metrics.confusion_matrix(actual,predict)"
   ]
  },
  {
   "cell_type": "code",
   "execution_count": 7,
   "id": "be3147e5",
   "metadata": {},
   "outputs": [
    {
     "data": {
      "text/plain": [
       "'\\nPRECISION = TP / (TP + FP)\\n'"
      ]
     },
     "execution_count": 7,
     "metadata": {},
     "output_type": "execute_result"
    }
   ],
   "source": [
    "### Precision\n",
    "\n",
    "\"\"\"\n",
    "PRECISION = TP / (TP + FP)\n",
    "\"\"\"\n",
    "\n",
    "## We can say Precisoin is the probability/likelihood of the model to predict positive cases or negative cases\n",
    "## How well your model predicts a specific category\n",
    "## For multiclass There will be precision for each class"
   ]
  },
  {
   "cell_type": "code",
   "execution_count": 8,
   "id": "06c60684",
   "metadata": {},
   "outputs": [
    {
     "data": {
      "text/plain": [
       "'\\nFor precisions, think of predictions as your base\\n\\nFor Recall, think of truth as your base\\n'"
      ]
     },
     "execution_count": 8,
     "metadata": {},
     "output_type": "execute_result"
    }
   ],
   "source": [
    "## IMPORTANT\n",
    "\"\"\"\n",
    "For precisions, think of predictions as your base\n",
    "\n",
    "For Recall, think of truth as your base\n",
    "\"\"\""
   ]
  },
  {
   "cell_type": "code",
   "execution_count": 9,
   "id": "4cfc1ea4",
   "metadata": {},
   "outputs": [
    {
     "data": {
      "text/plain": [
       "'\\nRECALL = TP / (TP + FN)\\n'"
      ]
     },
     "execution_count": 9,
     "metadata": {},
     "output_type": "execute_result"
    }
   ],
   "source": [
    "### Recall is from positive actual values how many are correctly identified\n",
    "\n",
    "\"\"\"\n",
    "RECALL = TP / (TP + FN)\n",
    "\"\"\"\n",
    "\n",
    "### How well the model identified the positive cases is recall"
   ]
  },
  {
   "cell_type": "code",
   "execution_count": 10,
   "id": "49b49012",
   "metadata": {},
   "outputs": [
    {
     "data": {
      "text/plain": [
       "'\\nIf recall is high it provides less false negatives. If precison is high it provides less false positives\\n'"
      ]
     },
     "execution_count": 10,
     "metadata": {},
     "output_type": "execute_result"
    }
   ],
   "source": [
    "### For a good model our precision and recall should be high\n",
    "\n",
    "\"\"\"\n",
    "When do we need high precision or high recall? \n",
    "Models need high recall when you need output-sensitive predictions. \n",
    "For example, predicting cancer or predicting terrorists needs a high recall, in other words, \n",
    "you need to cover false negatives as well.\n",
    "\"\"\"\n",
    "\n",
    "### F1 score is the overall health of the model\n",
    "\n",
    "\n",
    "### Tentative intution\n",
    "\"\"\"\n",
    "If recall is high it provides less false negatives. If precison is high it provides less false positives\n",
    "\"\"\""
   ]
  },
  {
   "cell_type": "code",
   "execution_count": 11,
   "id": "f21150ba",
   "metadata": {},
   "outputs": [],
   "source": [
    "\"\"\"\n",
    "Importance of threshold\n",
    "Many ML models predict the probability where we have to set a threshold(usually be 0.5)\n",
    "But for domains and cases the threshold should be changed to know the best threshold value we can use\n",
    "Precision- Recall curve - pg(39)\n",
    "\"\"\"\n",
    "\n",
    "actual_val = [0, 0, 0, 1, 0, 0, 0, 0, 0, 0,\n",
    "          1, 0, 0, 0, 0, 0, 0, 0, 1, 0]\n",
    "\n",
    "pred_prob = [0.02638412, 0.11114267, 0.31620708,\n",
    "0.0490937, 0.0191491, 0.17554844,\n",
    "0.15952202, 0.03819563, 0.11639273,\n",
    "0.079377, 0.08584789, 0.39095342,\n",
    "0.27259048, 0.03447096, 0.04644807,\n",
    "0.03543574, 0.18521942, 0.05934905,\n",
    "0.61977213, 0.33056815]\n"
   ]
  },
  {
   "cell_type": "code",
   "execution_count": 12,
   "id": "0f1f25c2",
   "metadata": {},
   "outputs": [],
   "source": [
    "precisions = []\n",
    "recalls = []\n",
    "\n",
    "\n",
    "# a set of threshold values - ways to find it will be explained later - Abhi's code\n",
    "thresholds = [0.0490937 , 0.05934905, 0.079377,\n",
    "0.08584789, 0.11114267, 0.11639273,\n",
    "0.15952202, 0.17554844, 0.18521942,\n",
    "0.27259048, 0.31620708, 0.33056815,\n",
    "0.39095342, 0.61977213]\n",
    "\n",
    "\n",
    "## From the thresholds we are calculating the predicted values\n",
    "### I have slightly modified the Abhi's code - I used sklearn functions instead of manual coding\n",
    "for i in thresholds:\n",
    "    temp_prediction = [1 if x >= i else 0 for x in pred_prob]    #predicting with ith threshold\n",
    "    p = metrics.precision_score(actual_val,temp_prediction)      #calculating pre and recall with sklearn\n",
    "    r = metrics.recall_score(actual_val,temp_prediction)\n",
    "    precisions.append(p)\n",
    "    recalls.append(r)"
   ]
  },
  {
   "cell_type": "code",
   "execution_count": 13,
   "id": "05e34339",
   "metadata": {},
   "outputs": [
    {
     "name": "stdout",
     "output_type": "stream",
     "text": [
      "[0.21428571428571427, 0.15384615384615385, 0.16666666666666666, 0.18181818181818182, 0.1, 0.1111111111111111, 0.125, 0.14285714285714285, 0.16666666666666666, 0.2, 0.25, 0.3333333333333333, 0.5, 1.0]\n"
     ]
    }
   ],
   "source": [
    "print(precisions)"
   ]
  },
  {
   "cell_type": "code",
   "execution_count": 14,
   "id": "3b5224ae",
   "metadata": {},
   "outputs": [
    {
     "name": "stdout",
     "output_type": "stream",
     "text": [
      "[1.0, 0.6666666666666666, 0.6666666666666666, 0.6666666666666666, 0.3333333333333333, 0.3333333333333333, 0.3333333333333333, 0.3333333333333333, 0.3333333333333333, 0.3333333333333333, 0.3333333333333333, 0.3333333333333333, 0.3333333333333333, 0.3333333333333333]\n"
     ]
    }
   ],
   "source": [
    "print(recalls)"
   ]
  },
  {
   "cell_type": "code",
   "execution_count": 15,
   "id": "28cd5043",
   "metadata": {},
   "outputs": [
    {
     "data": {
      "image/png": "[encoded data removed]",
      "text/plain": [
       "<Figure size 720x720 with 1 Axes>"
      ]
     },
     "metadata": {
      "needs_background": "light"
     },
     "output_type": "display_data"
    }
   ],
   "source": [
    "### Always use plots -- to find and visualize best values if you have a lot of hyperparameter options\n",
    "\"\"\"\n",
    "Precision-Recall Curve\n",
    "\"\"\"\n",
    "\n",
    "#Reassigning tick values 0 to 1 (as precison and recall values will be within 0 and 1)\n",
    "\n",
    "plt.figure(figsize=(10,10))\n",
    "plt.plot(recalls,precisions)\n",
    "plt.xlabel(\"Recall\",fontsize=15)\n",
    "plt.ylabel(\"Precision\",fontsize=15)\n",
    "plt.xticks(np.arange(0, 1, step=0.2))\n",
    "plt.yticks(np.arange(0, 1, step=0.2))\n",
    "plt.show()"
   ]
  },
  {
   "cell_type": "code",
   "execution_count": 16,
   "id": "c8ddcda4",
   "metadata": {},
   "outputs": [
    {
     "data": {
      "text/plain": [
       "'\\nThe precision-recall curve shows the tradeoff between precision and recall \\nfor different threshold. A high area under the curve represents both high \\nrecall and high precision, where high precision relates to a low false \\npositive rate, and high recall relates to a low false negative rate.\\n'"
      ]
     },
     "execution_count": 16,
     "metadata": {},
     "output_type": "execute_result"
    }
   ],
   "source": [
    "\"\"\"\n",
    "The precision-recall curve shows the tradeoff between precision and recall \n",
    "for different threshold. A high area under the curve represents both high \n",
    "recall and high precision, where high precision relates to a low false \n",
    "positive rate, and high recall relates to a low false negative rate.\n",
    "\"\"\""
   ]
  },
  {
   "cell_type": "code",
   "execution_count": 17,
   "id": "6873c48f",
   "metadata": {},
   "outputs": [],
   "source": [
    "### Browse to see the actual curve \n",
    "### Always choose a value that has more area under the curve so that we can get more precision and recall\n",
    "### check the youtube link in the reference"
   ]
  },
  {
   "cell_type": "code",
   "execution_count": 18,
   "id": "4f9f388e",
   "metadata": {},
   "outputs": [
    {
     "data": {
      "text/plain": [
       "0.8000000000000002"
      ]
     },
     "execution_count": 18,
     "metadata": {},
     "output_type": "execute_result"
    }
   ],
   "source": [
    "\"\"\"\n",
    "F1 score is the simple weighted average (harmonic mean) of precison and recall\n",
    "\n",
    "F1 = 2PR/(P+R)\n",
    "(or)\n",
    "F1 = 2TP / (2TP+FP+FN)\n",
    "\n",
    "We can have F1, F0.5, F2 score -- what we call as F beta score - check kris video :)\n",
    "\"\"\"\n",
    "\n",
    "def f1_score(actual,predict):\n",
    "    p = metrics.precision_score(actual,predict)\n",
    "    r = metrics.recall_score(actual,predict)\n",
    "    \n",
    "    f1 = (2*p*r)/(p+r)\n",
    "    return f1\n",
    "\n",
    "f1_score(actual,predict)"
   ]
  },
  {
   "cell_type": "code",
   "execution_count": 19,
   "id": "829a39d5",
   "metadata": {},
   "outputs": [
    {
     "data": {
      "text/plain": [
       "0.8000000000000002"
      ]
     },
     "execution_count": 19,
     "metadata": {},
     "output_type": "execute_result"
    }
   ],
   "source": [
    "## using sklearn f1 function\n",
    "metrics.f1_score(actual,predict)"
   ]
  },
  {
   "cell_type": "code",
   "execution_count": 20,
   "id": "b4696d99",
   "metadata": {},
   "outputs": [],
   "source": [
    "## F1 Score also range from 0 to 1"
   ]
  },
  {
   "cell_type": "code",
   "execution_count": 21,
   "id": "874686df",
   "metadata": {},
   "outputs": [
    {
     "data": {
      "text/plain": [
       "'\\nTrue Positive Rate - TPR\\nRecall\\nSensitivity\\n'"
      ]
     },
     "execution_count": 21,
     "metadata": {},
     "output_type": "execute_result"
    }
   ],
   "source": [
    "# Also, All the three are same\n",
    "\"\"\"\n",
    "True Positive Rate - TPR\n",
    "Recall\n",
    "Sensitivity\n",
    "\"\"\""
   ]
  },
  {
   "cell_type": "code",
   "execution_count": 22,
   "id": "b8f84e4f",
   "metadata": {},
   "outputs": [
    {
     "data": {
      "text/plain": [
       "'\\nTrue Negative Rate(TNR) or False positive rate or Specificity\\n'"
      ]
     },
     "execution_count": 22,
     "metadata": {},
     "output_type": "execute_result"
    }
   ],
   "source": [
    "\"\"\"\n",
    "True Negative Rate(TNR) or False positive rate or Specificity\n",
    "\"\"\"\n",
    "\n",
    "## But TPR and TNR are the most commonly used term"
   ]
  },
  {
   "cell_type": "code",
   "execution_count": 23,
   "id": "148e65d9",
   "metadata": {},
   "outputs": [
    {
     "data": {
      "text/html": [
       "<div>\n",
       "<style scoped>\n",
       "    .dataframe tbody tr th:only-of-type {\n",
       "        vertical-align: middle;\n",
       "    }\n",
       "\n",
       "    .dataframe tbody tr th {\n",
       "        vertical-align: top;\n",
       "    }\n",
       "\n",
       "    .dataframe thead th {\n",
       "        text-align: right;\n",
       "    }\n",
       "</style>\n",
       "<table border=\"1\" class=\"dataframe\">\n",
       "  <thead>\n",
       "    <tr style=\"text-align: right;\">\n",
       "      <th></th>\n",
       "      <th>Threshold</th>\n",
       "      <th>TPR</th>\n",
       "      <th>FPR</th>\n",
       "    </tr>\n",
       "  </thead>\n",
       "  <tbody>\n",
       "    <tr>\n",
       "      <th>0</th>\n",
       "      <td>0.049094</td>\n",
       "      <td>1.000000</td>\n",
       "      <td>0.785714</td>\n",
       "    </tr>\n",
       "    <tr>\n",
       "      <th>1</th>\n",
       "      <td>0.059349</td>\n",
       "      <td>0.857143</td>\n",
       "      <td>0.846154</td>\n",
       "    </tr>\n",
       "    <tr>\n",
       "      <th>2</th>\n",
       "      <td>0.079377</td>\n",
       "      <td>0.875000</td>\n",
       "      <td>0.833333</td>\n",
       "    </tr>\n",
       "    <tr>\n",
       "      <th>3</th>\n",
       "      <td>0.085848</td>\n",
       "      <td>0.888889</td>\n",
       "      <td>0.818182</td>\n",
       "    </tr>\n",
       "    <tr>\n",
       "      <th>4</th>\n",
       "      <td>0.111143</td>\n",
       "      <td>0.800000</td>\n",
       "      <td>0.900000</td>\n",
       "    </tr>\n",
       "    <tr>\n",
       "      <th>5</th>\n",
       "      <td>0.116393</td>\n",
       "      <td>0.818182</td>\n",
       "      <td>0.888889</td>\n",
       "    </tr>\n",
       "    <tr>\n",
       "      <th>6</th>\n",
       "      <td>0.159522</td>\n",
       "      <td>0.833333</td>\n",
       "      <td>0.875000</td>\n",
       "    </tr>\n",
       "    <tr>\n",
       "      <th>7</th>\n",
       "      <td>0.175548</td>\n",
       "      <td>0.846154</td>\n",
       "      <td>0.857143</td>\n",
       "    </tr>\n",
       "    <tr>\n",
       "      <th>8</th>\n",
       "      <td>0.185219</td>\n",
       "      <td>0.857143</td>\n",
       "      <td>0.833333</td>\n",
       "    </tr>\n",
       "    <tr>\n",
       "      <th>9</th>\n",
       "      <td>0.272590</td>\n",
       "      <td>0.866667</td>\n",
       "      <td>0.800000</td>\n",
       "    </tr>\n",
       "    <tr>\n",
       "      <th>10</th>\n",
       "      <td>0.316207</td>\n",
       "      <td>0.875000</td>\n",
       "      <td>0.750000</td>\n",
       "    </tr>\n",
       "    <tr>\n",
       "      <th>11</th>\n",
       "      <td>0.330568</td>\n",
       "      <td>0.882353</td>\n",
       "      <td>0.666667</td>\n",
       "    </tr>\n",
       "    <tr>\n",
       "      <th>12</th>\n",
       "      <td>0.390953</td>\n",
       "      <td>0.888889</td>\n",
       "      <td>0.500000</td>\n",
       "    </tr>\n",
       "    <tr>\n",
       "      <th>13</th>\n",
       "      <td>0.619772</td>\n",
       "      <td>0.894737</td>\n",
       "      <td>0.000000</td>\n",
       "    </tr>\n",
       "  </tbody>\n",
       "</table>\n",
       "</div>"
      ],
      "text/plain": [
       "    Threshold       TPR       FPR\n",
       "0    0.049094  1.000000  0.785714\n",
       "1    0.059349  0.857143  0.846154\n",
       "2    0.079377  0.875000  0.833333\n",
       "3    0.085848  0.888889  0.818182\n",
       "4    0.111143  0.800000  0.900000\n",
       "5    0.116393  0.818182  0.888889\n",
       "6    0.159522  0.833333  0.875000\n",
       "7    0.175548  0.846154  0.857143\n",
       "8    0.185219  0.857143  0.833333\n",
       "9    0.272590  0.866667  0.800000\n",
       "10   0.316207  0.875000  0.750000\n",
       "11   0.330568  0.882353  0.666667\n",
       "12   0.390953  0.888889  0.500000\n",
       "13   0.619772  0.894737  0.000000"
      ]
     },
     "execution_count": 23,
     "metadata": {},
     "output_type": "execute_result"
    }
   ],
   "source": [
    "### TPR and TNR can also be calculated for different threshold values\n",
    "tpr_ls = []\n",
    "fpr_ls = []\n",
    "\n",
    "# a set of threshold values - ways to find it will be explained later - Abhi's code\n",
    "thresholds = [0.0490937 , 0.05934905, 0.079377,\n",
    "0.08584789, 0.11114267, 0.11639273,\n",
    "0.15952202, 0.17554844, 0.18521942,\n",
    "0.27259048, 0.31620708, 0.33056815,\n",
    "0.39095342, 0.61977213]\n",
    "\n",
    "\n",
    "## From the thresholds we are calculating the predicted values\n",
    "### I have slightly modified the Abhi's code - I used sklearn functions instead of manual coding\n",
    "for i in thresholds:\n",
    "    temp_prediction = [1 if x >= i else 0 for x in pred_prob]    #predicting with ith threshold\n",
    "    matrix = metrics.confusion_matrix(actual_val,temp_prediction)\n",
    "    tpr = matrix[0,0]/(matrix[0,0]+matrix[1,0])\n",
    "    fpr = matrix[0,1]/(matrix[0,1]+matrix[1,1])\n",
    "    tpr_ls.append(tpr)\n",
    "    fpr_ls.append(fpr)\n",
    "\n",
    "rate = pd.DataFrame(list(zip(thresholds,tpr_ls,fpr_ls)), columns=[\"Threshold\",\"TPR\",\"FPR\"])\n",
    "rate"
   ]
  },
  {
   "cell_type": "code",
   "execution_count": 24,
   "id": "7160f7e1",
   "metadata": {},
   "outputs": [
    {
     "data": {
      "image/png": "[encoded data removed]",
      "text/plain": [
       "<Figure size 720x720 with 1 Axes>"
      ]
     },
     "metadata": {
      "needs_background": "light"
     },
     "output_type": "display_data"
    }
   ],
   "source": [
    "## Check the book for Abhi's values\n",
    "\n",
    "plt.figure(figsize=(10,10))\n",
    "plt.fill_between(fpr_ls,tpr_ls,alpha=0.4)\n",
    "plt.plot(fpr_ls,tpr_ls,lw=3)\n",
    "plt.title(\"ROC Curve\",fontsize=15)\n",
    "plt.xlabel(\"FPR\",fontsize=15)\n",
    "plt.ylabel(\"TPR\",fontsize=15)\n",
    "plt.xlim(0,1.0)\n",
    "plt.ylim(0,1.0)\n",
    "plt.show()"
   ]
  },
  {
   "cell_type": "code",
   "execution_count": 25,
   "id": "c2a5c5fc",
   "metadata": {},
   "outputs": [],
   "source": [
    "# The curve is called as Receiver Operating Characteristics(ROC) - very useful when we have skewed binary targets\n",
    "# The Area under the curve is Area under ROC Curve(AUC) "
   ]
  },
  {
   "cell_type": "code",
   "execution_count": 26,
   "id": "f75f2b7a",
   "metadata": {},
   "outputs": [
    {
     "data": {
      "text/plain": [
       "(array([0. , 0. , 0. , 0.1, 0.1, 0.3, 0.6, 0.7, 1. ]),\n",
       " array([0. , 0.2, 0.4, 0.4, 0.8, 0.8, 0.8, 1. , 1. ]),\n",
       " array([1.99, 0.99, 0.9 , 0.85, 0.66, 0.5 , 0.3 , 0.2 , 0.05]))"
      ]
     },
     "execution_count": 26,
     "metadata": {},
     "output_type": "execute_result"
    }
   ],
   "source": [
    "## Now we are using roc inbuilt function direcrtly\n",
    "\n",
    "y_true = [0, 0, 0, 0, 1, 0, 1,\n",
    "0, 0, 1, 0, 1, 0, 0, 1]\n",
    "\n",
    "y_pred = [0.1, 0.3, 0.2, 0.6, 0.8, 0.05,\n",
    "0.9, 0.5, 0.3, 0.66, 0.3, 0.2,\n",
    "0.85, 0.15, 0.99]\n",
    "\n",
    "metrics.roc_curve(y_true,y_pred)\n",
    "\n",
    "# Note: roc_curve gives three values - tpr,tnr, threshold\n",
    "## the third list are threshold"
   ]
  },
  {
   "cell_type": "code",
   "execution_count": 27,
   "id": "2a093f6b",
   "metadata": {},
   "outputs": [
    {
     "data": {
      "text/plain": [
       "0.8300000000000001"
      ]
     },
     "execution_count": 27,
     "metadata": {},
     "output_type": "execute_result"
    }
   ],
   "source": [
    "metrics.roc_auc_score(y_true,y_pred)   ## AUC value range from 0 to 1"
   ]
  },
  {
   "cell_type": "code",
   "execution_count": 28,
   "id": "8acd369b",
   "metadata": {},
   "outputs": [],
   "source": [
    "## ROC and AUC is used in binary classification problem especially to find best threshold and best model(.)\n",
    "## We can find TPR and TNR and plot for various threshold to get ROC(for a specific classification model)\n",
    "## We can try with multiple models and plot the ROC for multiple classification models (with color variation and less transparency)\n",
    "## Check which AUC is higher among different classification models -- choose the model with highest AUC"
   ]
  },
  {
   "cell_type": "code",
   "execution_count": 29,
   "id": "68a962b2",
   "metadata": {},
   "outputs": [
    {
     "data": {
      "text/plain": [
       "'\\nIn classification, Depending up on the problem and use case we might have probabilities or actual classes\\n'"
      ]
     },
     "execution_count": 29,
     "metadata": {},
     "output_type": "execute_result"
    }
   ],
   "source": [
    "\"\"\"\n",
    "In classification, Depending up on the problem and use case we might have probabilities or actual classes\n",
    "\"\"\"\n",
    "\n",
    "## The best threhold will be in the top left value of the ROC curve"
   ]
  },
  {
   "cell_type": "code",
   "execution_count": 30,
   "id": "c89d673e",
   "metadata": {},
   "outputs": [
    {
     "data": {
      "text/plain": [
       "0.49882711861432294"
      ]
     },
     "execution_count": 30,
     "metadata": {},
     "output_type": "execute_result"
    }
   ],
   "source": [
    "## Log Loss Function\n",
    "## Refer pg-49,50 for manual log loss coding\n",
    "## Using Sklearn to calculate log loss\n",
    "## Log loss punishes you for being very sure and very wrong\n",
    "\n",
    "y_true = [0, 0, 0, 0, 1, 0, 1,\n",
    "0, 0, 1, 0, 1, 0, 0, 1]\n",
    "\n",
    "y_prob = [0.1, 0.3, 0.2, 0.6, 0.8, 0.05,       # y_prob is the probability of being class 1(positive)\n",
    "0.9, 0.5, 0.3, 0.66, 0.3, 0.2,\n",
    "0.85, 0.15, 0.99]\n",
    "\n",
    "metrics.log_loss(y_true,y_prob)"
   ]
  },
  {
   "cell_type": "code",
   "execution_count": 31,
   "id": "429cb93b",
   "metadata": {},
   "outputs": [
    {
     "data": {
      "text/plain": [
       "0.3611111111111111"
      ]
     },
     "execution_count": 31,
     "metadata": {},
     "output_type": "execute_result"
    }
   ],
   "source": [
    "### Macro average is calculating precision for each class that exist in the target individually and taking average\n",
    "\n",
    "y_true = [0,1,2,0,1,2,0,2,2]\n",
    "y_pred = [0,2,1,0,2,1,0,0,2]\n",
    "\n",
    "metrics.precision_score(y_true,y_pred,average=\"macro\")"
   ]
  },
  {
   "cell_type": "code",
   "execution_count": 32,
   "id": "0afeed75",
   "metadata": {},
   "outputs": [
    {
     "data": {
      "text/plain": [
       "0.4444444444444444"
      ]
     },
     "execution_count": 32,
     "metadata": {},
     "output_type": "execute_result"
    }
   ],
   "source": [
    "### Micro average caluclate TP and FP for all class use the general formula to get micro average\n",
    "\n",
    "metrics.precision_score(y_true,y_pred,average=\"micro\")"
   ]
  },
  {
   "cell_type": "code",
   "execution_count": 33,
   "id": "fc616ca8",
   "metadata": {},
   "outputs": [
    {
     "data": {
      "text/plain": [
       "'\\nWhen there is a balanced multiclass problem --> Use Macro average precision\\n\\nWhen there is a skewed data i.e imbalanced multiclass problem --> Use Micro average precision\\n\\nThe advantage of micro average problem is that it can capture the precision so well in imbalanced/skewed multiclass problem\\n\\n'"
      ]
     },
     "execution_count": 33,
     "metadata": {},
     "output_type": "execute_result"
    }
   ],
   "source": [
    "\"\"\"\n",
    "When there is a balanced multiclass problem --> Use Macro average precision\n",
    "\n",
    "When there is a skewed data i.e imbalanced multiclass problem --> Use Micro average precision\n",
    "\n",
    "The advantage of micro average problem is that it can capture the precision so well in imbalanced/skewed multiclass problem\n",
    "\n",
    "\"\"\""
   ]
  },
  {
   "cell_type": "code",
   "execution_count": 34,
   "id": "222dd7c3",
   "metadata": {},
   "outputs": [
    {
     "data": {
      "text/plain": [
       "0.39814814814814814"
      ]
     },
     "execution_count": 34,
     "metadata": {},
     "output_type": "execute_result"
    }
   ],
   "source": [
    "## Weighted average calculate precisons based upon the no of samples in each class which will be very useful for\n",
    "## skewed datasets\n",
    "\n",
    "metrics.precision_score(y_true,y_pred,average=\"weighted\")"
   ]
  },
  {
   "cell_type": "code",
   "execution_count": 35,
   "id": "57c6ae10",
   "metadata": {},
   "outputs": [
    {
     "data": {
      "text/plain": [
       "0.4166666666666667"
      ]
     },
     "execution_count": 35,
     "metadata": {},
     "output_type": "execute_result"
    }
   ],
   "source": [
    "\"\"\"\n",
    "Similarly, we can implement for recall - macro, micro,weighted average recall\n",
    "\"\"\"\n",
    "\n",
    "metrics.recall_score(y_true,y_pred,average=\"macro\")"
   ]
  },
  {
   "cell_type": "code",
   "execution_count": 36,
   "id": "2d0da668",
   "metadata": {},
   "outputs": [
    {
     "data": {
      "text/plain": [
       "0.4444444444444444"
      ]
     },
     "execution_count": 36,
     "metadata": {},
     "output_type": "execute_result"
    }
   ],
   "source": [
    "metrics.recall_score(y_true,y_pred,average=\"micro\")"
   ]
  },
  {
   "cell_type": "code",
   "execution_count": 37,
   "id": "6a5b652d",
   "metadata": {},
   "outputs": [
    {
     "data": {
      "text/plain": [
       "0.4444444444444444"
      ]
     },
     "execution_count": 37,
     "metadata": {},
     "output_type": "execute_result"
    }
   ],
   "source": [
    "metrics.recall_score(y_true,y_pred,average=\"weighted\")"
   ]
  },
  {
   "cell_type": "code",
   "execution_count": 38,
   "id": "a3022ed4",
   "metadata": {},
   "outputs": [
    {
     "data": {
      "text/plain": [
       "0.41269841269841273"
      ]
     },
     "execution_count": 38,
     "metadata": {},
     "output_type": "execute_result"
    }
   ],
   "source": [
    "### F1 score for multiclass classification\n",
    "## check the manual code in book - pg 56\n",
    "\n",
    "metrics.f1_score(y_true,y_pred,average=\"weighted\")"
   ]
  },
  {
   "cell_type": "code",
   "execution_count": 44,
   "id": "429fcca5",
   "metadata": {},
   "outputs": [
    {
     "data": {
      "image/png": "[encoded data removed]",
      "text/plain": [
       "<Figure size 504x504 with 1 Axes>"
      ]
     },
     "metadata": {},
     "output_type": "display_data"
    }
   ],
   "source": [
    "### Calculating confusion matrix and plotting it\n",
    "### It is a simple HEATMAP - we can create a cmap and pass it to our heatmap\n",
    "\n",
    "c_matrix = metrics.confusion_matrix(y_true,y_pred)\n",
    "plt.figure(figsize=(7,7))\n",
    "cmap = sns.cubehelix_palette(50, hue=0.05, rot=0, light=0.9, dark=0,\n",
    "as_cmap=True)\n",
    "sns.set(font_scale=2.5)\n",
    "sns.heatmap(c_matrix, annot=True, cmap=cmap, cbar=False)\n",
    "plt.ylabel('Actual Labels', fontsize=20)\n",
    "plt.xlabel('Predicted Labels', fontsize=20)\n",
    "plt.show()"
   ]
  },
  {
   "cell_type": "markdown",
   "id": "50b8a641",
   "metadata": {},
   "source": [
    "### Multilabel Classification"
   ]
  },
  {
   "cell_type": "code",
   "execution_count": null,
   "id": "a1d4760b",
   "metadata": {},
   "outputs": [],
   "source": [
    "## Four mertrics are provided in the book\n",
    "\"\"\"\n",
    "Not sure - If you have a list of original classes for a given sample and list of predicted classes for the same.\n",
    "Then, precision is defined as the number of hits in the predicted list considering only top-k predictions, divided by k\n",
    "\"\"\"\n",
    "\n",
    "# 1) Precision at K - P@k\n",
    "\n",
    "def pk(y_true,y_pred,k):\n",
    "    # calculates precision at k for a single sample\n",
    "    # k is always k>=1; if k=0 then return 0\n",
    "    \n",
    "    if k==0:\n",
    "        return 0\n",
    "    \n",
    "    # taking only the top k predictions\n",
    "    y_pred = y_pred[:k]\n",
    "    k_len = len(y_pred)\n",
    "    \n",
    "    #converting predictions & actual values to set\n",
    "    pred_set = set(y_pred)\n",
    "    true_set = set(y_true)\n",
    "    \n",
    "    # finding common values - Intersections\n",
    "    common_val = pred_set.intersection(true_set)\n",
    "    \n",
    "    # From the top k predictions how many predictions are correct\n",
    "    return len(common_val)/k_len\n",
    "\n",
    "\n"
   ]
  },
  {
   "cell_type": "code",
   "execution_count": null,
   "id": "72618f95",
   "metadata": {},
   "outputs": [],
   "source": []
  }
 ],
 "metadata": {
  "kernelspec": {
   "display_name": "Python 3 (ipykernel)",
   "language": "python",
   "name": "python3"
  },
  "language_info": {
   "codemirror_mode": {
    "name": "ipython",
    "version": 3
   },
   "file_extension": ".py",
   "mimetype": "text/x-python",
   "name": "python",
   "nbconvert_exporter": "python",
   "pygments_lexer": "ipython3",
   "version": "3.10.4"
  }
 },
 "nbformat": 4,
 "nbformat_minor": 5
}
